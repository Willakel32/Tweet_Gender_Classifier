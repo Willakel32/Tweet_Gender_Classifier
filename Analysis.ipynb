{
 "cells": [
  {
   "cell_type": "code",
   "execution_count": 106,
   "id": "d6e03713-2308-4a7d-9e0e-a2a07b41b26c",
   "metadata": {},
   "outputs": [],
   "source": [
    "import pandas as pd\n",
    "import numpy as np\n",
    "import matplotlib.pyplot as plt\n",
    "import seaborn as sns\n",
    "import sklearn\n",
    "import nltk\n",
    "import warnings\n",
    "warnings.filterwarnings('ignore')"
   ]
  },
  {
   "cell_type": "code",
   "execution_count": 134,
   "id": "6eb075e6-bfcb-41ca-a9e9-4bfb13731bec",
   "metadata": {},
   "outputs": [
    {
     "data": {
      "text/html": [
       "<div>\n",
       "<style scoped>\n",
       "    .dataframe tbody tr th:only-of-type {\n",
       "        vertical-align: middle;\n",
       "    }\n",
       "\n",
       "    .dataframe tbody tr th {\n",
       "        vertical-align: top;\n",
       "    }\n",
       "\n",
       "    .dataframe thead th {\n",
       "        text-align: right;\n",
       "    }\n",
       "</style>\n",
       "<table border=\"1\" class=\"dataframe\">\n",
       "  <thead>\n",
       "    <tr style=\"text-align: right;\">\n",
       "      <th></th>\n",
       "      <th>_unit_id</th>\n",
       "      <th>_golden</th>\n",
       "      <th>_unit_state</th>\n",
       "      <th>_trusted_judgments</th>\n",
       "      <th>_last_judgment_at</th>\n",
       "      <th>gender</th>\n",
       "      <th>gender:confidence</th>\n",
       "      <th>profile_yn</th>\n",
       "      <th>profile_yn:confidence</th>\n",
       "      <th>created</th>\n",
       "      <th>...</th>\n",
       "      <th>profileimage</th>\n",
       "      <th>retweet_count</th>\n",
       "      <th>sidebar_color</th>\n",
       "      <th>text</th>\n",
       "      <th>tweet_coord</th>\n",
       "      <th>tweet_count</th>\n",
       "      <th>tweet_created</th>\n",
       "      <th>tweet_id</th>\n",
       "      <th>tweet_location</th>\n",
       "      <th>user_timezone</th>\n",
       "    </tr>\n",
       "  </thead>\n",
       "  <tbody>\n",
       "    <tr>\n",
       "      <th>0</th>\n",
       "      <td>815719226</td>\n",
       "      <td>False</td>\n",
       "      <td>finalized</td>\n",
       "      <td>3</td>\n",
       "      <td>10/26/2015 23:24</td>\n",
       "      <td>male</td>\n",
       "      <td>1.0000</td>\n",
       "      <td>yes</td>\n",
       "      <td>1.0</td>\n",
       "      <td>12/5/2013 1:48</td>\n",
       "      <td>...</td>\n",
       "      <td>https://pbs.twimg.com/profile_images/414342229...</td>\n",
       "      <td>0</td>\n",
       "      <td>FFFFFF</td>\n",
       "      <td>Robbie E Responds To Critics After Win Against...</td>\n",
       "      <td>NaN</td>\n",
       "      <td>110964</td>\n",
       "      <td>10/26/2015 12:40</td>\n",
       "      <td>6.590000e+17</td>\n",
       "      <td>main; @Kan1shk3</td>\n",
       "      <td>Chennai</td>\n",
       "    </tr>\n",
       "    <tr>\n",
       "      <th>1</th>\n",
       "      <td>815719227</td>\n",
       "      <td>False</td>\n",
       "      <td>finalized</td>\n",
       "      <td>3</td>\n",
       "      <td>10/26/2015 23:30</td>\n",
       "      <td>male</td>\n",
       "      <td>1.0000</td>\n",
       "      <td>yes</td>\n",
       "      <td>1.0</td>\n",
       "      <td>10/1/2012 13:51</td>\n",
       "      <td>...</td>\n",
       "      <td>https://pbs.twimg.com/profile_images/539604221...</td>\n",
       "      <td>0</td>\n",
       "      <td>C0DEED</td>\n",
       "      <td>ÛÏIt felt like they were my friends and I was...</td>\n",
       "      <td>NaN</td>\n",
       "      <td>7471</td>\n",
       "      <td>10/26/2015 12:40</td>\n",
       "      <td>6.590000e+17</td>\n",
       "      <td>NaN</td>\n",
       "      <td>Eastern Time (US &amp; Canada)</td>\n",
       "    </tr>\n",
       "    <tr>\n",
       "      <th>2</th>\n",
       "      <td>815719228</td>\n",
       "      <td>False</td>\n",
       "      <td>finalized</td>\n",
       "      <td>3</td>\n",
       "      <td>10/26/2015 23:33</td>\n",
       "      <td>male</td>\n",
       "      <td>0.6625</td>\n",
       "      <td>yes</td>\n",
       "      <td>1.0</td>\n",
       "      <td>11/28/2014 11:30</td>\n",
       "      <td>...</td>\n",
       "      <td>https://pbs.twimg.com/profile_images/657330418...</td>\n",
       "      <td>1</td>\n",
       "      <td>C0DEED</td>\n",
       "      <td>i absolutely adore when louis starts the songs...</td>\n",
       "      <td>NaN</td>\n",
       "      <td>5617</td>\n",
       "      <td>10/26/2015 12:40</td>\n",
       "      <td>6.590000e+17</td>\n",
       "      <td>clcncl</td>\n",
       "      <td>Belgrade</td>\n",
       "    </tr>\n",
       "    <tr>\n",
       "      <th>3</th>\n",
       "      <td>815719229</td>\n",
       "      <td>False</td>\n",
       "      <td>finalized</td>\n",
       "      <td>3</td>\n",
       "      <td>10/26/2015 23:10</td>\n",
       "      <td>male</td>\n",
       "      <td>1.0000</td>\n",
       "      <td>yes</td>\n",
       "      <td>1.0</td>\n",
       "      <td>6/11/2009 22:39</td>\n",
       "      <td>...</td>\n",
       "      <td>https://pbs.twimg.com/profile_images/259703936...</td>\n",
       "      <td>0</td>\n",
       "      <td>C0DEED</td>\n",
       "      <td>Hi @JordanSpieth - Looking at the url - do you...</td>\n",
       "      <td>NaN</td>\n",
       "      <td>1693</td>\n",
       "      <td>10/26/2015 12:40</td>\n",
       "      <td>6.590000e+17</td>\n",
       "      <td>Palo Alto, CA</td>\n",
       "      <td>Pacific Time (US &amp; Canada)</td>\n",
       "    </tr>\n",
       "    <tr>\n",
       "      <th>4</th>\n",
       "      <td>815719230</td>\n",
       "      <td>False</td>\n",
       "      <td>finalized</td>\n",
       "      <td>3</td>\n",
       "      <td>10/27/2015 1:15</td>\n",
       "      <td>female</td>\n",
       "      <td>1.0000</td>\n",
       "      <td>yes</td>\n",
       "      <td>1.0</td>\n",
       "      <td>4/16/2014 13:23</td>\n",
       "      <td>...</td>\n",
       "      <td>https://pbs.twimg.com/profile_images/564094871...</td>\n",
       "      <td>0</td>\n",
       "      <td>0</td>\n",
       "      <td>Watching Neighbours on Sky+ catching up with t...</td>\n",
       "      <td>NaN</td>\n",
       "      <td>31462</td>\n",
       "      <td>10/26/2015 12:40</td>\n",
       "      <td>6.590000e+17</td>\n",
       "      <td>NaN</td>\n",
       "      <td>NaN</td>\n",
       "    </tr>\n",
       "  </tbody>\n",
       "</table>\n",
       "<p>5 rows × 26 columns</p>\n",
       "</div>"
      ],
      "text/plain": [
       "    _unit_id  _golden _unit_state  _trusted_judgments _last_judgment_at  \\\n",
       "0  815719226    False   finalized                   3  10/26/2015 23:24   \n",
       "1  815719227    False   finalized                   3  10/26/2015 23:30   \n",
       "2  815719228    False   finalized                   3  10/26/2015 23:33   \n",
       "3  815719229    False   finalized                   3  10/26/2015 23:10   \n",
       "4  815719230    False   finalized                   3   10/27/2015 1:15   \n",
       "\n",
       "   gender  gender:confidence profile_yn  profile_yn:confidence  \\\n",
       "0    male             1.0000        yes                    1.0   \n",
       "1    male             1.0000        yes                    1.0   \n",
       "2    male             0.6625        yes                    1.0   \n",
       "3    male             1.0000        yes                    1.0   \n",
       "4  female             1.0000        yes                    1.0   \n",
       "\n",
       "            created  ...                                       profileimage  \\\n",
       "0    12/5/2013 1:48  ...  https://pbs.twimg.com/profile_images/414342229...   \n",
       "1   10/1/2012 13:51  ...  https://pbs.twimg.com/profile_images/539604221...   \n",
       "2  11/28/2014 11:30  ...  https://pbs.twimg.com/profile_images/657330418...   \n",
       "3   6/11/2009 22:39  ...  https://pbs.twimg.com/profile_images/259703936...   \n",
       "4   4/16/2014 13:23  ...  https://pbs.twimg.com/profile_images/564094871...   \n",
       "\n",
       "   retweet_count sidebar_color  \\\n",
       "0              0        FFFFFF   \n",
       "1              0        C0DEED   \n",
       "2              1        C0DEED   \n",
       "3              0        C0DEED   \n",
       "4              0             0   \n",
       "\n",
       "                                                text tweet_coord tweet_count  \\\n",
       "0  Robbie E Responds To Critics After Win Against...         NaN      110964   \n",
       "1  ÛÏIt felt like they were my friends and I was...         NaN        7471   \n",
       "2  i absolutely adore when louis starts the songs...         NaN        5617   \n",
       "3  Hi @JordanSpieth - Looking at the url - do you...         NaN        1693   \n",
       "4  Watching Neighbours on Sky+ catching up with t...         NaN       31462   \n",
       "\n",
       "      tweet_created      tweet_id   tweet_location               user_timezone  \n",
       "0  10/26/2015 12:40  6.590000e+17  main; @Kan1shk3                     Chennai  \n",
       "1  10/26/2015 12:40  6.590000e+17              NaN  Eastern Time (US & Canada)  \n",
       "2  10/26/2015 12:40  6.590000e+17           clcncl                    Belgrade  \n",
       "3  10/26/2015 12:40  6.590000e+17    Palo Alto, CA  Pacific Time (US & Canada)  \n",
       "4  10/26/2015 12:40  6.590000e+17              NaN                         NaN  \n",
       "\n",
       "[5 rows x 26 columns]"
      ]
     },
     "execution_count": 134,
     "metadata": {},
     "output_type": "execute_result"
    }
   ],
   "source": [
    "df = pd.read_csv('gender-classifier.csv',encoding=\"latin1\")\n",
    "df.head()"
   ]
  },
  {
   "cell_type": "code",
   "execution_count": 135,
   "id": "21cc5b11-446f-4cac-b232-191cebab9981",
   "metadata": {},
   "outputs": [
    {
     "data": {
      "text/html": [
       "<div>\n",
       "<style scoped>\n",
       "    .dataframe tbody tr th:only-of-type {\n",
       "        vertical-align: middle;\n",
       "    }\n",
       "\n",
       "    .dataframe tbody tr th {\n",
       "        vertical-align: top;\n",
       "    }\n",
       "\n",
       "    .dataframe thead th {\n",
       "        text-align: right;\n",
       "    }\n",
       "</style>\n",
       "<table border=\"1\" class=\"dataframe\">\n",
       "  <thead>\n",
       "    <tr style=\"text-align: right;\">\n",
       "      <th></th>\n",
       "      <th>gender</th>\n",
       "      <th>gender:confidence</th>\n",
       "      <th>description</th>\n",
       "      <th>fav_number</th>\n",
       "      <th>retweet_count</th>\n",
       "      <th>text</th>\n",
       "      <th>tweet_count</th>\n",
       "    </tr>\n",
       "  </thead>\n",
       "  <tbody>\n",
       "    <tr>\n",
       "      <th>0</th>\n",
       "      <td>male</td>\n",
       "      <td>1.0000</td>\n",
       "      <td>i sing my own rhythm.</td>\n",
       "      <td>0</td>\n",
       "      <td>0</td>\n",
       "      <td>Robbie E Responds To Critics After Win Against...</td>\n",
       "      <td>110964</td>\n",
       "    </tr>\n",
       "    <tr>\n",
       "      <th>1</th>\n",
       "      <td>male</td>\n",
       "      <td>1.0000</td>\n",
       "      <td>I'm the author of novels filled with family dr...</td>\n",
       "      <td>68</td>\n",
       "      <td>0</td>\n",
       "      <td>ÛÏIt felt like they were my friends and I was...</td>\n",
       "      <td>7471</td>\n",
       "    </tr>\n",
       "    <tr>\n",
       "      <th>2</th>\n",
       "      <td>male</td>\n",
       "      <td>0.6625</td>\n",
       "      <td>louis whining and squealing and all</td>\n",
       "      <td>7696</td>\n",
       "      <td>1</td>\n",
       "      <td>i absolutely adore when louis starts the songs...</td>\n",
       "      <td>5617</td>\n",
       "    </tr>\n",
       "    <tr>\n",
       "      <th>3</th>\n",
       "      <td>male</td>\n",
       "      <td>1.0000</td>\n",
       "      <td>Mobile guy.  49ers, Shazam, Google, Kleiner Pe...</td>\n",
       "      <td>202</td>\n",
       "      <td>0</td>\n",
       "      <td>Hi @JordanSpieth - Looking at the url - do you...</td>\n",
       "      <td>1693</td>\n",
       "    </tr>\n",
       "    <tr>\n",
       "      <th>4</th>\n",
       "      <td>female</td>\n",
       "      <td>1.0000</td>\n",
       "      <td>Ricky Wilson The Best FRONTMAN/Kaiser Chiefs T...</td>\n",
       "      <td>37318</td>\n",
       "      <td>0</td>\n",
       "      <td>Watching Neighbours on Sky+ catching up with t...</td>\n",
       "      <td>31462</td>\n",
       "    </tr>\n",
       "  </tbody>\n",
       "</table>\n",
       "</div>"
      ],
      "text/plain": [
       "   gender  gender:confidence  \\\n",
       "0    male             1.0000   \n",
       "1    male             1.0000   \n",
       "2    male             0.6625   \n",
       "3    male             1.0000   \n",
       "4  female             1.0000   \n",
       "\n",
       "                                         description  fav_number  \\\n",
       "0                              i sing my own rhythm.           0   \n",
       "1  I'm the author of novels filled with family dr...          68   \n",
       "2                louis whining and squealing and all        7696   \n",
       "3  Mobile guy.  49ers, Shazam, Google, Kleiner Pe...         202   \n",
       "4  Ricky Wilson The Best FRONTMAN/Kaiser Chiefs T...       37318   \n",
       "\n",
       "   retweet_count                                               text  \\\n",
       "0              0  Robbie E Responds To Critics After Win Against...   \n",
       "1              0  ÛÏIt felt like they were my friends and I was...   \n",
       "2              1  i absolutely adore when louis starts the songs...   \n",
       "3              0  Hi @JordanSpieth - Looking at the url - do you...   \n",
       "4              0  Watching Neighbours on Sky+ catching up with t...   \n",
       "\n",
       "   tweet_count  \n",
       "0       110964  \n",
       "1         7471  \n",
       "2         5617  \n",
       "3         1693  \n",
       "4        31462  "
      ]
     },
     "execution_count": 135,
     "metadata": {},
     "output_type": "execute_result"
    }
   ],
   "source": [
    "df = df[['gender','gender:confidence','description','fav_number','retweet_count','text','tweet_count']]\n",
    "df.head()"
   ]
  },
  {
   "cell_type": "code",
   "execution_count": 136,
   "id": "feb45729-9b4c-4f63-b448-e1a5ec0bd307",
   "metadata": {},
   "outputs": [
    {
     "data": {
      "text/plain": [
       "female     6700\n",
       "male       6194\n",
       "brand      5942\n",
       "unknown    1117\n",
       "Name: gender, dtype: int64"
      ]
     },
     "execution_count": 136,
     "metadata": {},
     "output_type": "execute_result"
    }
   ],
   "source": [
    "df['gender'].value_counts()"
   ]
  },
  {
   "cell_type": "code",
   "execution_count": 137,
   "id": "c8c9481d-3b2b-4fb8-90b3-928f94fc7c26",
   "metadata": {},
   "outputs": [
    {
     "data": {
      "text/plain": [
       "female    6700\n",
       "male      6194\n",
       "Name: gender, dtype: int64"
      ]
     },
     "execution_count": 137,
     "metadata": {},
     "output_type": "execute_result"
    }
   ],
   "source": [
    "df = df[(df['gender'] == 'male') | (df['gender'] == 'female')]\n",
    "df['gender'].value_counts()"
   ]
  },
  {
   "cell_type": "code",
   "execution_count": 138,
   "id": "3af7e3c5-bae7-4161-99b9-f1aec720f4e9",
   "metadata": {},
   "outputs": [
    {
     "data": {
      "text/plain": [
       "(10020, 7)"
      ]
     },
     "execution_count": 138,
     "metadata": {},
     "output_type": "execute_result"
    }
   ],
   "source": [
    "df = df[df['gender:confidence'] == 1]\n",
    "df.shape"
   ]
  },
  {
   "cell_type": "code",
   "execution_count": 139,
   "id": "e862436f-a076-4542-9f9a-78f39ab7b02b",
   "metadata": {},
   "outputs": [
    {
     "data": {
      "text/plain": [
       "<seaborn.axisgrid.FacetGrid at 0x2ab8aa4a130>"
      ]
     },
     "execution_count": 139,
     "metadata": {},
     "output_type": "execute_result"
    },
    {
     "data": {
      "image/png": "[encoded data removed]",
      "text/plain": [
       "<Figure size 360x360 with 1 Axes>"
      ]
     },
     "metadata": {
      "needs_background": "light"
     },
     "output_type": "display_data"
    }
   ],
   "source": [
    "sns.catplot(x='fav_number',y='gender',data=df)"
   ]
  },
  {
   "cell_type": "code",
   "execution_count": 140,
   "id": "6a4a73e3-25e1-4b78-8047-2524767fbad8",
   "metadata": {},
   "outputs": [],
   "source": [
    "df['fav_log'] = np.log(df['fav_number'])"
   ]
  },
  {
   "cell_type": "code",
   "execution_count": 141,
   "id": "381dc628-8533-466f-a7ff-ef85bf86621a",
   "metadata": {},
   "outputs": [
    {
     "data": {
      "text/plain": [
       "<AxesSubplot:xlabel='fav_log', ylabel='gender'>"
      ]
     },
     "execution_count": 141,
     "metadata": {},
     "output_type": "execute_result"
    },
    {
     "data": {
      "image/png": "[encoded data removed]",
      "text/plain": [
       "<Figure size 432x288 with 1 Axes>"
      ]
     },
     "metadata": {
      "needs_background": "light"
     },
     "output_type": "display_data"
    }
   ],
   "source": [
    "sns.boxplot(x='fav_log',y='gender',data=df)"
   ]
  },
  {
   "cell_type": "code",
   "execution_count": 142,
   "id": "878838b1-2875-44f3-b1ee-fd2b130e62c6",
   "metadata": {},
   "outputs": [
    {
     "data": {
      "text/plain": [
       "<AxesSubplot:xlabel='retweet_count', ylabel='gender'>"
      ]
     },
     "execution_count": 142,
     "metadata": {},
     "output_type": "execute_result"
    },
    {
     "data": {
      "image/png": "[encoded data removed]",
      "text/plain": [
       "<Figure size 432x288 with 1 Axes>"
      ]
     },
     "metadata": {
      "needs_background": "light"
     },
     "output_type": "display_data"
    }
   ],
   "source": [
    "sns.boxplot(x='retweet_count',y='gender',data=df)"
   ]
  },
  {
   "cell_type": "code",
   "execution_count": 143,
   "id": "f179ddfa-d093-491b-88e7-76d904cf9685",
   "metadata": {},
   "outputs": [],
   "source": [
    "df = df.drop(columns = ['retweet_count','fav_number'])"
   ]
  },
  {
   "cell_type": "code",
   "execution_count": 144,
   "id": "494b5adc-4579-4c32-bbe1-f68d4c56295a",
   "metadata": {},
   "outputs": [
    {
     "data": {
      "text/plain": [
       "<AxesSubplot:xlabel='tweet_count', ylabel='gender'>"
      ]
     },
     "execution_count": 144,
     "metadata": {},
     "output_type": "execute_result"
    },
    {
     "data": {
      "image/png": "[encoded data removed]",
      "text/plain": [
       "<Figure size 432x288 with 1 Axes>"
      ]
     },
     "metadata": {
      "needs_background": "light"
     },
     "output_type": "display_data"
    }
   ],
   "source": [
    "sns.boxplot(x='tweet_count',y='gender',data=df)"
   ]
  },
  {
   "cell_type": "code",
   "execution_count": 145,
   "id": "165dd7f5-8a17-4a17-91a6-f7cb636c46ba",
   "metadata": {},
   "outputs": [
    {
     "data": {
      "text/plain": [
       "<AxesSubplot:xlabel='tweet_log', ylabel='gender'>"
      ]
     },
     "execution_count": 145,
     "metadata": {},
     "output_type": "execute_result"
    },
    {
     "data": {
      "image/png": "[encoded data removed]",
      "text/plain": [
       "<Figure size 432x288 with 1 Axes>"
      ]
     },
     "metadata": {
      "needs_background": "light"
     },
     "output_type": "display_data"
    }
   ],
   "source": [
    "df['tweet_log'] = np.log(df['tweet_count'])\n",
    "sns.boxplot(x='tweet_log',y='gender',data=df)"
   ]
  },
  {
   "cell_type": "code",
   "execution_count": 146,
   "id": "d255ab6b-83da-451f-acba-7e7ee6a8ea3b",
   "metadata": {},
   "outputs": [],
   "source": [
    "df = df.drop(columns=['tweet_log','tweet_count'])"
   ]
  },
  {
   "cell_type": "code",
   "execution_count": 147,
   "id": "ad030c16-4679-4e96-9993-6da3918fcd66",
   "metadata": {},
   "outputs": [
    {
     "data": {
      "text/html": [
       "<div>\n",
       "<style scoped>\n",
       "    .dataframe tbody tr th:only-of-type {\n",
       "        vertical-align: middle;\n",
       "    }\n",
       "\n",
       "    .dataframe tbody tr th {\n",
       "        vertical-align: top;\n",
       "    }\n",
       "\n",
       "    .dataframe thead th {\n",
       "        text-align: right;\n",
       "    }\n",
       "</style>\n",
       "<table border=\"1\" class=\"dataframe\">\n",
       "  <thead>\n",
       "    <tr style=\"text-align: right;\">\n",
       "      <th></th>\n",
       "      <th>gender</th>\n",
       "      <th>gender:confidence</th>\n",
       "      <th>description</th>\n",
       "      <th>text</th>\n",
       "      <th>fav_log</th>\n",
       "    </tr>\n",
       "  </thead>\n",
       "  <tbody>\n",
       "    <tr>\n",
       "      <th>0</th>\n",
       "      <td>male</td>\n",
       "      <td>1.0</td>\n",
       "      <td>i sing my own rhythm.</td>\n",
       "      <td>Robbie E Responds To Critics After Win Against...</td>\n",
       "      <td>-inf</td>\n",
       "    </tr>\n",
       "    <tr>\n",
       "      <th>1</th>\n",
       "      <td>male</td>\n",
       "      <td>1.0</td>\n",
       "      <td>I'm the author of novels filled with family dr...</td>\n",
       "      <td>ÛÏIt felt like they were my friends and I was...</td>\n",
       "      <td>4.219508</td>\n",
       "    </tr>\n",
       "    <tr>\n",
       "      <th>3</th>\n",
       "      <td>male</td>\n",
       "      <td>1.0</td>\n",
       "      <td>Mobile guy.  49ers, Shazam, Google, Kleiner Pe...</td>\n",
       "      <td>Hi @JordanSpieth - Looking at the url - do you...</td>\n",
       "      <td>5.308268</td>\n",
       "    </tr>\n",
       "    <tr>\n",
       "      <th>4</th>\n",
       "      <td>female</td>\n",
       "      <td>1.0</td>\n",
       "      <td>Ricky Wilson The Best FRONTMAN/Kaiser Chiefs T...</td>\n",
       "      <td>Watching Neighbours on Sky+ catching up with t...</td>\n",
       "      <td>10.527231</td>\n",
       "    </tr>\n",
       "    <tr>\n",
       "      <th>5</th>\n",
       "      <td>female</td>\n",
       "      <td>1.0</td>\n",
       "      <td>you don't know me.</td>\n",
       "      <td>Ive seen people on the train with lamps, chair...</td>\n",
       "      <td>8.268988</td>\n",
       "    </tr>\n",
       "  </tbody>\n",
       "</table>\n",
       "</div>"
      ],
      "text/plain": [
       "   gender  gender:confidence  \\\n",
       "0    male                1.0   \n",
       "1    male                1.0   \n",
       "3    male                1.0   \n",
       "4  female                1.0   \n",
       "5  female                1.0   \n",
       "\n",
       "                                         description  \\\n",
       "0                              i sing my own rhythm.   \n",
       "1  I'm the author of novels filled with family dr...   \n",
       "3  Mobile guy.  49ers, Shazam, Google, Kleiner Pe...   \n",
       "4  Ricky Wilson The Best FRONTMAN/Kaiser Chiefs T...   \n",
       "5                                 you don't know me.   \n",
       "\n",
       "                                                text    fav_log  \n",
       "0  Robbie E Responds To Critics After Win Against...       -inf  \n",
       "1  ÛÏIt felt like they were my friends and I was...   4.219508  \n",
       "3  Hi @JordanSpieth - Looking at the url - do you...   5.308268  \n",
       "4  Watching Neighbours on Sky+ catching up with t...  10.527231  \n",
       "5  Ive seen people on the train with lamps, chair...   8.268988  "
      ]
     },
     "execution_count": 147,
     "metadata": {},
     "output_type": "execute_result"
    }
   ],
   "source": [
    "df.head()"
   ]
  },
  {
   "cell_type": "code",
   "execution_count": 148,
   "id": "c939a233-357a-485a-bd86-a29d4c903087",
   "metadata": {},
   "outputs": [
    {
     "data": {
      "text/html": [
       "<div>\n",
       "<style scoped>\n",
       "    .dataframe tbody tr th:only-of-type {\n",
       "        vertical-align: middle;\n",
       "    }\n",
       "\n",
       "    .dataframe tbody tr th {\n",
       "        vertical-align: top;\n",
       "    }\n",
       "\n",
       "    .dataframe thead th {\n",
       "        text-align: right;\n",
       "    }\n",
       "</style>\n",
       "<table border=\"1\" class=\"dataframe\">\n",
       "  <thead>\n",
       "    <tr style=\"text-align: right;\">\n",
       "      <th></th>\n",
       "      <th>gender</th>\n",
       "      <th>gender:confidence</th>\n",
       "      <th>description</th>\n",
       "      <th>text</th>\n",
       "      <th>fav_log</th>\n",
       "    </tr>\n",
       "  </thead>\n",
       "  <tbody>\n",
       "    <tr>\n",
       "      <th>0</th>\n",
       "      <td>male</td>\n",
       "      <td>1.0</td>\n",
       "      <td>i sing my own rhythm.</td>\n",
       "      <td>Robbie E Responds To Critics After Win Against...</td>\n",
       "      <td>0.000000</td>\n",
       "    </tr>\n",
       "    <tr>\n",
       "      <th>1</th>\n",
       "      <td>male</td>\n",
       "      <td>1.0</td>\n",
       "      <td>I'm the author of novels filled with family dr...</td>\n",
       "      <td>ÛÏIt felt like they were my friends and I was...</td>\n",
       "      <td>4.219508</td>\n",
       "    </tr>\n",
       "    <tr>\n",
       "      <th>3</th>\n",
       "      <td>male</td>\n",
       "      <td>1.0</td>\n",
       "      <td>Mobile guy.  49ers, Shazam, Google, Kleiner Pe...</td>\n",
       "      <td>Hi @JordanSpieth - Looking at the url - do you...</td>\n",
       "      <td>5.308268</td>\n",
       "    </tr>\n",
       "    <tr>\n",
       "      <th>4</th>\n",
       "      <td>female</td>\n",
       "      <td>1.0</td>\n",
       "      <td>Ricky Wilson The Best FRONTMAN/Kaiser Chiefs T...</td>\n",
       "      <td>Watching Neighbours on Sky+ catching up with t...</td>\n",
       "      <td>10.527231</td>\n",
       "    </tr>\n",
       "    <tr>\n",
       "      <th>5</th>\n",
       "      <td>female</td>\n",
       "      <td>1.0</td>\n",
       "      <td>you don't know me.</td>\n",
       "      <td>Ive seen people on the train with lamps, chair...</td>\n",
       "      <td>8.268988</td>\n",
       "    </tr>\n",
       "  </tbody>\n",
       "</table>\n",
       "</div>"
      ],
      "text/plain": [
       "   gender  gender:confidence  \\\n",
       "0    male                1.0   \n",
       "1    male                1.0   \n",
       "3    male                1.0   \n",
       "4  female                1.0   \n",
       "5  female                1.0   \n",
       "\n",
       "                                         description  \\\n",
       "0                              i sing my own rhythm.   \n",
       "1  I'm the author of novels filled with family dr...   \n",
       "3  Mobile guy.  49ers, Shazam, Google, Kleiner Pe...   \n",
       "4  Ricky Wilson The Best FRONTMAN/Kaiser Chiefs T...   \n",
       "5                                 you don't know me.   \n",
       "\n",
       "                                                text    fav_log  \n",
       "0  Robbie E Responds To Critics After Win Against...   0.000000  \n",
       "1  ÛÏIt felt like they were my friends and I was...   4.219508  \n",
       "3  Hi @JordanSpieth - Looking at the url - do you...   5.308268  \n",
       "4  Watching Neighbours on Sky+ catching up with t...  10.527231  \n",
       "5  Ive seen people on the train with lamps, chair...   8.268988  "
      ]
     },
     "execution_count": 148,
     "metadata": {},
     "output_type": "execute_result"
    }
   ],
   "source": [
    "df = df.replace(-np.inf,0)\n",
    "df.head()"
   ]
  },
  {
   "cell_type": "code",
   "execution_count": 149,
   "id": "3970b9a0-2f13-4c77-ab11-3deb7f0a8409",
   "metadata": {},
   "outputs": [
    {
     "data": {
      "text/plain": [
       "(10020, 5)"
      ]
     },
     "execution_count": 149,
     "metadata": {},
     "output_type": "execute_result"
    }
   ],
   "source": [
    "df[df['gender:confidence']==1].shape"
   ]
  },
  {
   "cell_type": "code",
   "execution_count": 150,
   "id": "514d8c3b-2b34-4846-bb88-fb4fea17fc8f",
   "metadata": {},
   "outputs": [],
   "source": [
    "df = df[df['gender:confidence']==1]"
   ]
  },
  {
   "cell_type": "code",
   "execution_count": 151,
   "id": "d34f6a8b-fef0-4d1f-8964-cc73b1ff1313",
   "metadata": {},
   "outputs": [],
   "source": [
    "df['description'] = df['description'].astype(str)"
   ]
  },
  {
   "cell_type": "code",
   "execution_count": 131,
   "id": "93dcaf35-40ca-4239-ba1a-7a2e364daf81",
   "metadata": {},
   "outputs": [
    {
     "name": "stdout",
     "output_type": "stream",
     "text": [
      "Requirement already satisfied: autocorrect in c:\\users\\wia\\anaconda3\\lib\\site-packages (2.6.1)\n"
     ]
    },
    {
     "name": "stderr",
     "output_type": "stream",
     "text": [
      "[nltk_data] Downloading package wordnet to\n",
      "[nltk_data]     C:\\Users\\wia\\AppData\\Roaming\\nltk_data...\n",
      "[nltk_data]   Unzipping corpora\\wordnet.zip.\n"
     ]
    }
   ],
   "source": [
    "!pip install autocorrect\n",
    "from sklearn.feature_extraction.text import TfidfVectorizer\n",
    "from sklearn.model_selection import train_test_split\n",
    "from sklearn.preprocessing import LabelEncoder\n",
    "from nltk.corpus import stopwords\n",
    "nltk.download('wordnet')\n",
    "import unidecode\n",
    "from autocorrect import Speller"
   ]
  },
  {
   "cell_type": "code",
   "execution_count": 126,
   "id": "13f5a751-a706-4101-9adc-e6eff4218474",
   "metadata": {},
   "outputs": [],
   "source": [
    "import re"
   ]
  },
  {
   "cell_type": "code",
   "execution_count": 127,
   "id": "603b161e-04c8-460d-8052-898b507eb606",
   "metadata": {},
   "outputs": [],
   "source": [
    "def case_convert(df,col):\n",
    "    df[col] = [i.lower() for i in df[col].values]\n",
    "\n",
    "def remove_specials(df,col):\n",
    "    df[col] =  [re.sub(r\"[^a-zA-Z]\",\" \",text) for text in df[col].values]\n",
    "\n",
    "def remove_shorthands(df,col):\n",
    "    CONTRACTION_MAP = {\n",
    "    \"ain't\": \"is not\",\n",
    "    \"aren't\": \"are not\",\n",
    "    \"can't\": \"cannot\",\n",
    "    \"can't've\": \"cannot have\",\n",
    "    \"'cause\": \"because\",\n",
    "    \"could've\": \"could have\",\n",
    "    \"couldn't\": \"could not\",\n",
    "    \"couldn't've\": \"could not have\",\n",
    "    \"didn't\": \"did not\",\n",
    "    \"doesn't\": \"does not\",\n",
    "    \"don't\": \"do not\",\n",
    "    \"hadn't\": \"had not\",\n",
    "    \"hadn't've\": \"had not have\",\n",
    "    \"hasn't\": \"has not\",\n",
    "    \"haven't\": \"have not\",\n",
    "    \"he'd\": \"he would\",\n",
    "    \"he'd've\": \"he would have\",\n",
    "    \"he'll\": \"he will\",\n",
    "    \"he'll've\": \"he he will have\",\n",
    "    \"he's\": \"he is\",\n",
    "    \"how'd\": \"how did\",\n",
    "    \"how'd'y\": \"how do you\",\n",
    "    \"how'll\": \"how will\",\n",
    "    \"how's\": \"how is\",\n",
    "    \"i'd\": \"i would\",\n",
    "    \"i'd've\": \"i would have\",\n",
    "    \"i'll\": \"i will\",\n",
    "    \"i'll've\": \"i will have\",\n",
    "    \"i'm\": \"i am\",\n",
    "    \"i've\": \"i have\",\n",
    "    \"isn't\": \"is not\",\n",
    "    \"it'd\": \"it would\",\n",
    "    \"it'd've\": \"it would have\",\n",
    "    \"it'll\": \"it will\",\n",
    "    \"it'll've\": \"it will have\",\n",
    "    \"it's\": \"it is\",\n",
    "    \"let's\": \"let us\",\n",
    "    \"ma'am\": \"madam\",\n",
    "    \"mayn't\": \"may not\",\n",
    "    \"might've\": \"might have\",\n",
    "    \"mightn't\": \"might not\",\n",
    "    \"mightn't've\": \"might not have\",\n",
    "    \"must've\": \"must have\",\n",
    "    \"mustn't\": \"must not\",\n",
    "    \"mustn't've\": \"must not have\",\n",
    "    \"needn't\": \"need not\",\n",
    "    \"needn't've\": \"need not have\",\n",
    "    \"o'clock\": \"of the clock\",\n",
    "    \"oughtn't\": \"ought not\",\n",
    "    \"oughtn't've\": \"ought not have\",\n",
    "    \"shan't\": \"shall not\",\n",
    "    \"sha'n't\": \"shall not\",\n",
    "    \"shan't've\": \"shall not have\",\n",
    "    \"she'd\": \"she would\",\n",
    "    \"she'd've\": \"she would have\",\n",
    "    \"she'll\": \"she will\",\n",
    "    \"she'll've\": \"she will have\",\n",
    "    \"she's\": \"she is\",\n",
    "    \"should've\": \"should have\",\n",
    "    \"shouldn't\": \"should not\",\n",
    "    \"shouldn't've\": \"should not have\",\n",
    "    \"so've\": \"so have\",\n",
    "    \"so's\": \"so as\",\n",
    "    \"that'd\": \"that would\",\n",
    "    \"that'd've\": \"that would have\",\n",
    "    \"that's\": \"that is\",\n",
    "    \"there'd\": \"there would\",\n",
    "    \"there'd've\": \"there would have\",\n",
    "    \"there's\": \"there is\",\n",
    "    \"they'd\": \"they would\",\n",
    "    \"they'd've\": \"they would have\",\n",
    "    \"they'll\": \"they will\",\n",
    "    \"they'll've\": \"they will have\",\n",
    "    \"they're\": \"they are\",\n",
    "    \"they've\": \"they have\",\n",
    "    \"to've\": \"to have\",\n",
    "    \"wasn't\": \"was not\",\n",
    "    \"we'd\": \"we would\",\n",
    "    \"we'd've\": \"we would have\",\n",
    "    \"we'll\": \"we will\",\n",
    "    \"we'll've\": \"we will have\",\n",
    "    \"we're\": \"we are\",\n",
    "    \"we've\": \"we have\",\n",
    "    \"weren't\": \"were not\",\n",
    "    \"what'll\": \"what will\",\n",
    "    \"what'll've\": \"what will have\",\n",
    "    \"what're\": \"what are\",\n",
    "    \"what's\": \"what is\",\n",
    "    \"what've\": \"what have\",\n",
    "    \"when's\": \"when is\",\n",
    "    \"when've\": \"when have\",\n",
    "    \"where'd\": \"where did\",\n",
    "    \"where's\": \"where is\",\n",
    "    \"where've\": \"where have\",\n",
    "    \"who'll\": \"who will\",\n",
    "    \"who'll've\": \"who will have\",\n",
    "    \"who's\": \"who is\",\n",
    "    \"who've\": \"who have\",\n",
    "    \"why's\": \"why is\",\n",
    "    \"why've\": \"why have\",\n",
    "    \"will've\": \"will have\",\n",
    "    \"won't\": \"will not\",\n",
    "    \"won't've\": \"will not have\",\n",
    "    \"would've\": \"would have\",\n",
    "    \"wouldn't\": \"would not\",\n",
    "    \"wouldn't've\": \"would not have\",\n",
    "    \"y'all\": \"you all\",\n",
    "    \"y'all'd\": \"you all would\",\n",
    "    \"y'all'd've\": \"you all would have\",\n",
    "    \"y'all're\": \"you all are\",\n",
    "    \"y'all've\": \"you all have\",\n",
    "    \"you'd\": \"you would\",\n",
    "    \"you'd've\": \"you would have\",\n",
    "    \"you'll\": \"you will\",\n",
    "    \"you'll've\": \"you will have\",\n",
    "    \"you're\": \"you are\",\n",
    "    \"you've\": \"you have\"\n",
    "    }\n",
    "    texts = []\n",
    "    for text in df[col].values:\n",
    "        string = \"\"\n",
    "        for word in text.split(\" \"):\n",
    "            if word.strip() in list(CONTRACTION_MAP.keys()):\n",
    "                string = string + \" \" + CONTRACTION_MAP[word]\n",
    "            else:\n",
    "                string = string + \" \" + word\n",
    "        texts.append(string.strip())\n",
    "    df[col] = texts\n",
    "\n",
    "def remove_stopwords(df,col):\n",
    "    texts = []\n",
    "    stopwords_list = stopwords.words('english')\n",
    "    for item in df[col].values:\n",
    "        string = \"\"\n",
    "        for word in item.split(\" \"):\n",
    "            if word.strip() in stopwords_list:\n",
    "                continue\n",
    "            else:\n",
    "                string = string + \" \" + word\n",
    "        texts.append(string)\n",
    "    df[col] = texts\n",
    "                \n",
    "def remove_links(df,col):\n",
    "    texts = []\n",
    "    for text in df[col].values:\n",
    "        remove_https = re.sub(r'http\\S+', '', text)\n",
    "        remove_com = re.sub(r\"\\ [A-Za-z]*\\.com\", \" \", remove_https)\n",
    "        texts.append(remove_com)\n",
    "    df[col] = texts\n",
    "\n",
    "def remove_accents(df,col):\n",
    "    df[col] = [unidecode.unidecode(text) for text in df[col].values]\n",
    "\n",
    "def normalize_spaces(df,col):\n",
    "    df[col] = [re.sub(r\"\\s+\",\" \",text) for text in df[col].values]\n",
    "\n"
   ]
  },
  {
   "cell_type": "code",
   "execution_count": 152,
   "id": "a3387daf-c6c0-4a62-9f05-3fad748eea41",
   "metadata": {},
   "outputs": [
    {
     "data": {
      "text/html": [
       "<div>\n",
       "<style scoped>\n",
       "    .dataframe tbody tr th:only-of-type {\n",
       "        vertical-align: middle;\n",
       "    }\n",
       "\n",
       "    .dataframe tbody tr th {\n",
       "        vertical-align: top;\n",
       "    }\n",
       "\n",
       "    .dataframe thead th {\n",
       "        text-align: right;\n",
       "    }\n",
       "</style>\n",
       "<table border=\"1\" class=\"dataframe\">\n",
       "  <thead>\n",
       "    <tr style=\"text-align: right;\">\n",
       "      <th></th>\n",
       "      <th>gender</th>\n",
       "      <th>gender:confidence</th>\n",
       "      <th>description</th>\n",
       "      <th>text</th>\n",
       "      <th>fav_log</th>\n",
       "    </tr>\n",
       "  </thead>\n",
       "  <tbody>\n",
       "    <tr>\n",
       "      <th>0</th>\n",
       "      <td>male</td>\n",
       "      <td>1.0</td>\n",
       "      <td>i sing my own rhythm</td>\n",
       "      <td>Robbie E Responds To Critics After Win Against...</td>\n",
       "      <td>0.000000</td>\n",
       "    </tr>\n",
       "    <tr>\n",
       "      <th>1</th>\n",
       "      <td>male</td>\n",
       "      <td>1.0</td>\n",
       "      <td>i m the author of novels filled with family dr...</td>\n",
       "      <td>ÛÏIt felt like they were my friends and I was...</td>\n",
       "      <td>4.219508</td>\n",
       "    </tr>\n",
       "    <tr>\n",
       "      <th>3</th>\n",
       "      <td>male</td>\n",
       "      <td>1.0</td>\n",
       "      <td>mobile guy ers shazam google kleiner perkins y...</td>\n",
       "      <td>Hi @JordanSpieth - Looking at the url - do you...</td>\n",
       "      <td>5.308268</td>\n",
       "    </tr>\n",
       "    <tr>\n",
       "      <th>4</th>\n",
       "      <td>female</td>\n",
       "      <td>1.0</td>\n",
       "      <td>ricky wilson the best frontman kaiser chiefs t...</td>\n",
       "      <td>Watching Neighbours on Sky+ catching up with t...</td>\n",
       "      <td>10.527231</td>\n",
       "    </tr>\n",
       "    <tr>\n",
       "      <th>5</th>\n",
       "      <td>female</td>\n",
       "      <td>1.0</td>\n",
       "      <td>you don t know me</td>\n",
       "      <td>Ive seen people on the train with lamps, chair...</td>\n",
       "      <td>8.268988</td>\n",
       "    </tr>\n",
       "  </tbody>\n",
       "</table>\n",
       "</div>"
      ],
      "text/plain": [
       "   gender  gender:confidence  \\\n",
       "0    male                1.0   \n",
       "1    male                1.0   \n",
       "3    male                1.0   \n",
       "4  female                1.0   \n",
       "5  female                1.0   \n",
       "\n",
       "                                         description  \\\n",
       "0                              i sing my own rhythm    \n",
       "1  i m the author of novels filled with family dr...   \n",
       "3  mobile guy ers shazam google kleiner perkins y...   \n",
       "4  ricky wilson the best frontman kaiser chiefs t...   \n",
       "5                                 you don t know me    \n",
       "\n",
       "                                                text    fav_log  \n",
       "0  Robbie E Responds To Critics After Win Against...   0.000000  \n",
       "1  ÛÏIt felt like they were my friends and I was...   4.219508  \n",
       "3  Hi @JordanSpieth - Looking at the url - do you...   5.308268  \n",
       "4  Watching Neighbours on Sky+ catching up with t...  10.527231  \n",
       "5  Ive seen people on the train with lamps, chair...   8.268988  "
      ]
     },
     "execution_count": 152,
     "metadata": {},
     "output_type": "execute_result"
    }
   ],
   "source": [
    "case_convert(df,'description')\n",
    "remove_links(df,'description')\n",
    "#remove_shorthands(df,'description')\n",
    "remove_accents(df,'description')\n",
    "remove_specials(df,'description')\n",
    "\n",
    "normalize_spaces(df,'description')\n",
    "df.head()"
   ]
  },
  {
   "cell_type": "code",
   "execution_count": 154,
   "id": "d1a6b219-5d8b-45a6-94a2-da3889bc40de",
   "metadata": {},
   "outputs": [],
   "source": [
    "from nltk.tokenize import word_tokenize\n",
    "df['text'] = [nltk.word_tokenize(tweet) for tweet in df['text']]\n",
    "descrip_new=[]\n",
    "for each_row in df['text']:\n",
    "    descrip_new.append([i for i in each_row if i.isalpha()])\n",
    "descrip_new_alpha=[]\n",
    "\n",
    "stop_words = set(stopwords.words('english'))\n",
    "\n",
    "for each_row in descrip_new:\n",
    "    descrip_new_alpha.append([i for i in each_row if i not in stop_words])"
   ]
  },
  {
   "cell_type": "code",
   "execution_count": 155,
   "id": "6aea9b7a-1e3c-447a-a45b-547c1fa8029b",
   "metadata": {},
   "outputs": [],
   "source": [
    "description_new_lemma = []\n",
    "\n",
    "lemma = nltk.WordNetLemmatizer()\n",
    "\n",
    "for each_row in descrip_new_alpha:\n",
    "\n",
    "    description_new_lemma.append([lemma.lemmatize(word) for word in each_row])\n",
    "\n",
    "df['text'] = description_new_lemma\n",
    "\n",
    "df['text'] = [\" \".join(desc) for desc in df['text'].values]"
   ]
  },
  {
   "cell_type": "code",
   "execution_count": 156,
   "id": "8bd512bb-b34a-4d91-8a9d-ba01b5f53b02",
   "metadata": {},
   "outputs": [
    {
     "data": {
      "text/html": [
       "<div>\n",
       "<style scoped>\n",
       "    .dataframe tbody tr th:only-of-type {\n",
       "        vertical-align: middle;\n",
       "    }\n",
       "\n",
       "    .dataframe tbody tr th {\n",
       "        vertical-align: top;\n",
       "    }\n",
       "\n",
       "    .dataframe thead th {\n",
       "        text-align: right;\n",
       "    }\n",
       "</style>\n",
       "<table border=\"1\" class=\"dataframe\">\n",
       "  <thead>\n",
       "    <tr style=\"text-align: right;\">\n",
       "      <th></th>\n",
       "      <th>gender</th>\n",
       "      <th>gender:confidence</th>\n",
       "      <th>description</th>\n",
       "      <th>text</th>\n",
       "      <th>fav_log</th>\n",
       "    </tr>\n",
       "  </thead>\n",
       "  <tbody>\n",
       "    <tr>\n",
       "      <th>0</th>\n",
       "      <td>male</td>\n",
       "      <td>1.0</td>\n",
       "      <td>i sing my own rhythm</td>\n",
       "      <td>robbie e responds critic win eddie edward worl...</td>\n",
       "      <td>0.000000</td>\n",
       "    </tr>\n",
       "    <tr>\n",
       "      <th>1</th>\n",
       "      <td>male</td>\n",
       "      <td>1.0</td>\n",
       "      <td>i m the author of novels filled with family dr...</td>\n",
       "      <td>uiit felt like friend living story themu retir...</td>\n",
       "      <td>4.219508</td>\n",
       "    </tr>\n",
       "    <tr>\n",
       "      <th>3</th>\n",
       "      <td>male</td>\n",
       "      <td>1.0</td>\n",
       "      <td>mobile guy ers shazam google kleiner perkins y...</td>\n",
       "      <td>hi jordanspieth looking url use ifttt typicall...</td>\n",
       "      <td>5.308268</td>\n",
       "    </tr>\n",
       "    <tr>\n",
       "      <th>4</th>\n",
       "      <td>female</td>\n",
       "      <td>1.0</td>\n",
       "      <td>ricky wilson the best frontman kaiser chiefs t...</td>\n",
       "      <td>watching neighbour sky catching neighbs xxx u ...</td>\n",
       "      <td>10.527231</td>\n",
       "    </tr>\n",
       "    <tr>\n",
       "      <th>5</th>\n",
       "      <td>female</td>\n",
       "      <td>1.0</td>\n",
       "      <td>you don t know me</td>\n",
       "      <td>ive seen people train lamp chair tv etc</td>\n",
       "      <td>8.268988</td>\n",
       "    </tr>\n",
       "    <tr>\n",
       "      <th>7</th>\n",
       "      <td>male</td>\n",
       "      <td>1.0</td>\n",
       "      <td>the secret of getting ahead is getting started</td>\n",
       "      <td>gala bingo club bought aPS uk largest high str...</td>\n",
       "      <td>4.382027</td>\n",
       "    </tr>\n",
       "    <tr>\n",
       "      <th>8</th>\n",
       "      <td>female</td>\n",
       "      <td>1.0</td>\n",
       "      <td>pll fan crazy about mcd ramen is bae</td>\n",
       "      <td>aphmau pic defines mcd fangirls fanboys mcd sh...</td>\n",
       "      <td>7.509335</td>\n",
       "    </tr>\n",
       "    <tr>\n",
       "      <th>9</th>\n",
       "      <td>female</td>\n",
       "      <td>1.0</td>\n",
       "      <td>renaissance art historian university of nottin...</td>\n",
       "      <td>evielady lovely tree year never seen gorgeous ...</td>\n",
       "      <td>8.043984</td>\n",
       "    </tr>\n",
       "    <tr>\n",
       "      <th>15</th>\n",
       "      <td>female</td>\n",
       "      <td>1.0</td>\n",
       "      <td>nan</td>\n",
       "      <td>glow satisfaction glow</td>\n",
       "      <td>0.000000</td>\n",
       "    </tr>\n",
       "    <tr>\n",
       "      <th>16</th>\n",
       "      <td>female</td>\n",
       "      <td>1.0</td>\n",
       "      <td>jmkm ou</td>\n",
       "      <td>giannaaa lmao u u dude hella scared next episo...</td>\n",
       "      <td>7.474205</td>\n",
       "    </tr>\n",
       "    <tr>\n",
       "      <th>17</th>\n",
       "      <td>male</td>\n",
       "      <td>1.0</td>\n",
       "      <td>over enthusiastic f fan model collector music ...</td>\n",
       "      <td>coolyazzy ditto still learning favourite retwe...</td>\n",
       "      <td>1.609438</td>\n",
       "    </tr>\n",
       "    <tr>\n",
       "      <th>18</th>\n",
       "      <td>male</td>\n",
       "      <td>1.0</td>\n",
       "      <td>nan</td>\n",
       "      <td>caribbros jstsaleem understand get server get</td>\n",
       "      <td>0.000000</td>\n",
       "    </tr>\n",
       "    <tr>\n",
       "      <th>20</th>\n",
       "      <td>female</td>\n",
       "      <td>1.0</td>\n",
       "      <td>artisan specializing in paper mache print maki...</td>\n",
       "      <td>craftyear isabelpascual thank retweets</td>\n",
       "      <td>9.839002</td>\n",
       "    </tr>\n",
       "    <tr>\n",
       "      <th>21</th>\n",
       "      <td>female</td>\n",
       "      <td>1.0</td>\n",
       "      <td>he bled and died to take away my sins ue</td>\n",
       "      <td>girl went sleep guy sat floor watched u u u</td>\n",
       "      <td>8.604105</td>\n",
       "    </tr>\n",
       "    <tr>\n",
       "      <th>22</th>\n",
       "      <td>female</td>\n",
       "      <td>1.0</td>\n",
       "      <td>union j xxxx</td>\n",
       "      <td>chrisaofficial right side u aii u uxxx</td>\n",
       "      <td>4.890349</td>\n",
       "    </tr>\n",
       "    <tr>\n",
       "      <th>23</th>\n",
       "      <td>male</td>\n",
       "      <td>1.0</td>\n",
       "      <td>you had me from the start</td>\n",
       "      <td>yall lmfaoo right chorus came tear rolled face</td>\n",
       "      <td>7.962416</td>\n",
       "    </tr>\n",
       "    <tr>\n",
       "      <th>24</th>\n",
       "      <td>male</td>\n",
       "      <td>1.0</td>\n",
       "      <td>bsc economics graduate coys</td>\n",
       "      <td>james bond premier night everymancinema oxted ...</td>\n",
       "      <td>5.429346</td>\n",
       "    </tr>\n",
       "    <tr>\n",
       "      <th>25</th>\n",
       "      <td>female</td>\n",
       "      <td>1.0</td>\n",
       "      <td>wife to my coach mom to my eight troops follow...</td>\n",
       "      <td>sydniejr except hallmark movie start get anyth...</td>\n",
       "      <td>6.957497</td>\n",
       "    </tr>\n",
       "    <tr>\n",
       "      <th>28</th>\n",
       "      <td>female</td>\n",
       "      <td>1.0</td>\n",
       "      <td>my dms closed sc dear moonshine</td>\n",
       "      <td>leave group chat min miss made shit</td>\n",
       "      <td>8.310907</td>\n",
       "    </tr>\n",
       "    <tr>\n",
       "      <th>31</th>\n",
       "      <td>male</td>\n",
       "      <td>1.0</td>\n",
       "      <td>award winning author of the paranormal romance...</td>\n",
       "      <td>magic hath fury based real magick</td>\n",
       "      <td>4.634729</td>\n",
       "    </tr>\n",
       "    <tr>\n",
       "      <th>32</th>\n",
       "      <td>female</td>\n",
       "      <td>1.0</td>\n",
       "      <td>self proclaimed princess and occasional pain i...</td>\n",
       "      <td>week brandon birthday thing birthday week u we...</td>\n",
       "      <td>7.186901</td>\n",
       "    </tr>\n",
       "    <tr>\n",
       "      <th>33</th>\n",
       "      <td>male</td>\n",
       "      <td>1.0</td>\n",
       "      <td>k smooty i drink alot could be worse i m scrol...</td>\n",
       "      <td>got yard point jet gave season</td>\n",
       "      <td>6.803505</td>\n",
       "    </tr>\n",
       "    <tr>\n",
       "      <th>35</th>\n",
       "      <td>male</td>\n",
       "      <td>1.0</td>\n",
       "      <td>free ma bros ebk otr real all i kno is grind w...</td>\n",
       "      <td>alot past ion wont back</td>\n",
       "      <td>3.891820</td>\n",
       "    </tr>\n",
       "    <tr>\n",
       "      <th>37</th>\n",
       "      <td>female</td>\n",
       "      <td>1.0</td>\n",
       "      <td>penn state alum classof</td>\n",
       "      <td>boy el wit daughter</td>\n",
       "      <td>6.617403</td>\n",
       "    </tr>\n",
       "    <tr>\n",
       "      <th>39</th>\n",
       "      <td>male</td>\n",
       "      <td>1.0</td>\n",
       "      <td>lover of women dogs cats dogs movies comics tv...</td>\n",
       "      <td>theriddler cnn mean like mainstream new medium...</td>\n",
       "      <td>7.549609</td>\n",
       "    </tr>\n",
       "    <tr>\n",
       "      <th>41</th>\n",
       "      <td>male</td>\n",
       "      <td>1.0</td>\n",
       "      <td>militante y obrero de los suei os revolucionar...</td>\n",
       "      <td>many follower get everyday got last day growin...</td>\n",
       "      <td>2.484907</td>\n",
       "    </tr>\n",
       "    <tr>\n",
       "      <th>44</th>\n",
       "      <td>male</td>\n",
       "      <td>1.0</td>\n",
       "      <td>kennedy j abulala ni mwalimu anayeienzi kazi y...</td>\n",
       "      <td>kbonimtetezi mheshimiwa traveller along stretc...</td>\n",
       "      <td>5.147494</td>\n",
       "    </tr>\n",
       "    <tr>\n",
       "      <th>45</th>\n",
       "      <td>male</td>\n",
       "      <td>1.0</td>\n",
       "      <td>krothedj gmail com instagram djkro</td>\n",
       "      <td>greenville thursday yall holla need anything k...</td>\n",
       "      <td>4.442651</td>\n",
       "    </tr>\n",
       "    <tr>\n",
       "      <th>46</th>\n",
       "      <td>female</td>\n",
       "      <td>1.0</td>\n",
       "      <td>slightly ginger with blue eyes park run u</td>\n",
       "      <td>markhicks went wrong nandos found eventually c...</td>\n",
       "      <td>6.313548</td>\n",
       "    </tr>\n",
       "    <tr>\n",
       "      <th>47</th>\n",
       "      <td>male</td>\n",
       "      <td>1.0</td>\n",
       "      <td>just living life at the top of the food chain</td>\n",
       "      <td>andyrobsontips cardiff drew match goal sound good</td>\n",
       "      <td>8.425297</td>\n",
       "    </tr>\n",
       "  </tbody>\n",
       "</table>\n",
       "</div>"
      ],
      "text/plain": [
       "    gender  gender:confidence  \\\n",
       "0     male                1.0   \n",
       "1     male                1.0   \n",
       "3     male                1.0   \n",
       "4   female                1.0   \n",
       "5   female                1.0   \n",
       "7     male                1.0   \n",
       "8   female                1.0   \n",
       "9   female                1.0   \n",
       "15  female                1.0   \n",
       "16  female                1.0   \n",
       "17    male                1.0   \n",
       "18    male                1.0   \n",
       "20  female                1.0   \n",
       "21  female                1.0   \n",
       "22  female                1.0   \n",
       "23    male                1.0   \n",
       "24    male                1.0   \n",
       "25  female                1.0   \n",
       "28  female                1.0   \n",
       "31    male                1.0   \n",
       "32  female                1.0   \n",
       "33    male                1.0   \n",
       "35    male                1.0   \n",
       "37  female                1.0   \n",
       "39    male                1.0   \n",
       "41    male                1.0   \n",
       "44    male                1.0   \n",
       "45    male                1.0   \n",
       "46  female                1.0   \n",
       "47    male                1.0   \n",
       "\n",
       "                                          description  \\\n",
       "0                               i sing my own rhythm    \n",
       "1   i m the author of novels filled with family dr...   \n",
       "3   mobile guy ers shazam google kleiner perkins y...   \n",
       "4   ricky wilson the best frontman kaiser chiefs t...   \n",
       "5                                  you don t know me    \n",
       "7     the secret of getting ahead is getting started    \n",
       "8                pll fan crazy about mcd ramen is bae   \n",
       "9   renaissance art historian university of nottin...   \n",
       "15                                                nan   \n",
       "16                                            jmkm ou   \n",
       "17  over enthusiastic f fan model collector music ...   \n",
       "18                                                nan   \n",
       "20  artisan specializing in paper mache print maki...   \n",
       "21           he bled and died to take away my sins ue   \n",
       "22                                       union j xxxx   \n",
       "23                          you had me from the start   \n",
       "24                        bsc economics graduate coys   \n",
       "25  wife to my coach mom to my eight troops follow...   \n",
       "28                    my dms closed sc dear moonshine   \n",
       "31  award winning author of the paranormal romance...   \n",
       "32  self proclaimed princess and occasional pain i...   \n",
       "33  k smooty i drink alot could be worse i m scrol...   \n",
       "35  free ma bros ebk otr real all i kno is grind w...   \n",
       "37                           penn state alum classof    \n",
       "39  lover of women dogs cats dogs movies comics tv...   \n",
       "41  militante y obrero de los suei os revolucionar...   \n",
       "44  kennedy j abulala ni mwalimu anayeienzi kazi y...   \n",
       "45                krothedj gmail com instagram djkro    \n",
       "46          slightly ginger with blue eyes park run u   \n",
       "47      just living life at the top of the food chain   \n",
       "\n",
       "                                                 text    fav_log  \n",
       "0   robbie e responds critic win eddie edward worl...   0.000000  \n",
       "1   uiit felt like friend living story themu retir...   4.219508  \n",
       "3   hi jordanspieth looking url use ifttt typicall...   5.308268  \n",
       "4   watching neighbour sky catching neighbs xxx u ...  10.527231  \n",
       "5             ive seen people train lamp chair tv etc   8.268988  \n",
       "7   gala bingo club bought aPS uk largest high str...   4.382027  \n",
       "8   aphmau pic defines mcd fangirls fanboys mcd sh...   7.509335  \n",
       "9   evielady lovely tree year never seen gorgeous ...   8.043984  \n",
       "15                             glow satisfaction glow   0.000000  \n",
       "16  giannaaa lmao u u dude hella scared next episo...   7.474205  \n",
       "17  coolyazzy ditto still learning favourite retwe...   1.609438  \n",
       "18      caribbros jstsaleem understand get server get   0.000000  \n",
       "20             craftyear isabelpascual thank retweets   9.839002  \n",
       "21        girl went sleep guy sat floor watched u u u   8.604105  \n",
       "22             chrisaofficial right side u aii u uxxx   4.890349  \n",
       "23     yall lmfaoo right chorus came tear rolled face   7.962416  \n",
       "24  james bond premier night everymancinema oxted ...   5.429346  \n",
       "25  sydniejr except hallmark movie start get anyth...   6.957497  \n",
       "28                leave group chat min miss made shit   8.310907  \n",
       "31                  magic hath fury based real magick   4.634729  \n",
       "32  week brandon birthday thing birthday week u we...   7.186901  \n",
       "33                     got yard point jet gave season   6.803505  \n",
       "35                            alot past ion wont back   3.891820  \n",
       "37                                boy el wit daughter   6.617403  \n",
       "39  theriddler cnn mean like mainstream new medium...   7.549609  \n",
       "41  many follower get everyday got last day growin...   2.484907  \n",
       "44  kbonimtetezi mheshimiwa traveller along stretc...   5.147494  \n",
       "45  greenville thursday yall holla need anything k...   4.442651  \n",
       "46  markhicks went wrong nandos found eventually c...   6.313548  \n",
       "47  andyrobsontips cardiff drew match goal sound good   8.425297  "
      ]
     },
     "execution_count": 156,
     "metadata": {},
     "output_type": "execute_result"
    }
   ],
   "source": [
    "df.head(30)"
   ]
  },
  {
   "cell_type": "code",
   "execution_count": 153,
   "id": "48e7dc19-0975-4ace-b218-7fe3d71a2c35",
   "metadata": {},
   "outputs": [
    {
     "data": {
      "text/html": [
       "<div>\n",
       "<style scoped>\n",
       "    .dataframe tbody tr th:only-of-type {\n",
       "        vertical-align: middle;\n",
       "    }\n",
       "\n",
       "    .dataframe tbody tr th {\n",
       "        vertical-align: top;\n",
       "    }\n",
       "\n",
       "    .dataframe thead th {\n",
       "        text-align: right;\n",
       "    }\n",
       "</style>\n",
       "<table border=\"1\" class=\"dataframe\">\n",
       "  <thead>\n",
       "    <tr style=\"text-align: right;\">\n",
       "      <th></th>\n",
       "      <th>gender</th>\n",
       "      <th>gender:confidence</th>\n",
       "      <th>description</th>\n",
       "      <th>text</th>\n",
       "      <th>fav_log</th>\n",
       "    </tr>\n",
       "  </thead>\n",
       "  <tbody>\n",
       "    <tr>\n",
       "      <th>0</th>\n",
       "      <td>male</td>\n",
       "      <td>1.0</td>\n",
       "      <td>i sing my own rhythm</td>\n",
       "      <td>robbie e responds critics win eddie edwards w...</td>\n",
       "      <td>0.000000</td>\n",
       "    </tr>\n",
       "    <tr>\n",
       "      <th>1</th>\n",
       "      <td>male</td>\n",
       "      <td>1.0</td>\n",
       "      <td>i m the author of novels filled with family dr...</td>\n",
       "      <td>uiit felt like friends living story themu ret...</td>\n",
       "      <td>4.219508</td>\n",
       "    </tr>\n",
       "    <tr>\n",
       "      <th>3</th>\n",
       "      <td>male</td>\n",
       "      <td>1.0</td>\n",
       "      <td>mobile guy ers shazam google kleiner perkins y...</td>\n",
       "      <td>hi jordanspieth looking url use ifttt typical...</td>\n",
       "      <td>5.308268</td>\n",
       "    </tr>\n",
       "    <tr>\n",
       "      <th>4</th>\n",
       "      <td>female</td>\n",
       "      <td>1.0</td>\n",
       "      <td>ricky wilson the best frontman kaiser chiefs t...</td>\n",
       "      <td>watching neighbours sky catching neighbs xxx ...</td>\n",
       "      <td>10.527231</td>\n",
       "    </tr>\n",
       "    <tr>\n",
       "      <th>5</th>\n",
       "      <td>female</td>\n",
       "      <td>1.0</td>\n",
       "      <td>you don t know me</td>\n",
       "      <td>ive seen people train lamps chairs tvs etc</td>\n",
       "      <td>8.268988</td>\n",
       "    </tr>\n",
       "  </tbody>\n",
       "</table>\n",
       "</div>"
      ],
      "text/plain": [
       "   gender  gender:confidence  \\\n",
       "0    male                1.0   \n",
       "1    male                1.0   \n",
       "3    male                1.0   \n",
       "4  female                1.0   \n",
       "5  female                1.0   \n",
       "\n",
       "                                         description  \\\n",
       "0                              i sing my own rhythm    \n",
       "1  i m the author of novels filled with family dr...   \n",
       "3  mobile guy ers shazam google kleiner perkins y...   \n",
       "4  ricky wilson the best frontman kaiser chiefs t...   \n",
       "5                                 you don t know me    \n",
       "\n",
       "                                                text    fav_log  \n",
       "0   robbie e responds critics win eddie edwards w...   0.000000  \n",
       "1   uiit felt like friends living story themu ret...   4.219508  \n",
       "3   hi jordanspieth looking url use ifttt typical...   5.308268  \n",
       "4   watching neighbours sky catching neighbs xxx ...  10.527231  \n",
       "5        ive seen people train lamps chairs tvs etc    8.268988  "
      ]
     },
     "execution_count": 153,
     "metadata": {},
     "output_type": "execute_result"
    }
   ],
   "source": [
    "case_convert(df,'text')\n",
    "remove_links(df,'text')\n",
    "#remove_shorthands(df,'description')\n",
    "remove_accents(df,'text')\n",
    "remove_specials(df,'text')\n",
    "remove_stopwords(df,'text')\n",
    "normalize_spaces(df,'text')\n",
    "df.head()"
   ]
  },
  {
   "cell_type": "code",
   "execution_count": 157,
   "id": "bec3a336-2e4c-4984-bf88-7ee7218ed988",
   "metadata": {},
   "outputs": [],
   "source": [
    "df = df.drop(columns = 'gender:confidence')"
   ]
  },
  {
   "cell_type": "code",
   "execution_count": 158,
   "id": "f8bcf714-7347-43d8-8df5-041dbd6f1b5d",
   "metadata": {},
   "outputs": [],
   "source": [
    "lenc = LabelEncoder()\n",
    "df['gender'] = lenc.fit_transform(df['gender'])"
   ]
  },
  {
   "cell_type": "code",
   "execution_count": 159,
   "id": "32f04032-cbec-403e-8b36-50de06397420",
   "metadata": {},
   "outputs": [
    {
     "data": {
      "text/plain": [
       "<AxesSubplot:xlabel='gender', ylabel='Count'>"
      ]
     },
     "execution_count": 159,
     "metadata": {},
     "output_type": "execute_result"
    },
    {
     "data": {
      "image/png": "[encoded data removed]",
      "text/plain": [
       "<Figure size 432x288 with 1 Axes>"
      ]
     },
     "metadata": {
      "needs_background": "light"
     },
     "output_type": "display_data"
    }
   ],
   "source": [
    "sns.histplot(x='gender',data=df)"
   ]
  },
  {
   "cell_type": "code",
   "execution_count": 160,
   "id": "012ee2fb-f470-4449-a503-2ac81af7d327",
   "metadata": {},
   "outputs": [],
   "source": [
    "vec = TfidfVectorizer(max_features=3000)\n",
    "\n",
    "X_train, X_test, Y_train, Y_test = train_test_split(vec.fit_transform(df['text'].values).toarray(), \n",
    "                                                    df['gender'].values.reshape(-1,1), \n",
    "                                                    test_size=0.2, \n",
    "                                                    shuffle=True, \n",
    "                                                    random_state=42)"
   ]
  },
  {
   "cell_type": "code",
   "execution_count": 161,
   "id": "81e46e63-f034-46ff-afec-79f6352354a2",
   "metadata": {},
   "outputs": [
    {
     "data": {
      "text/plain": [
       "RandomForestClassifier(n_estimators=10, random_state=42)"
      ]
     },
     "execution_count": 161,
     "metadata": {},
     "output_type": "execute_result"
    }
   ],
   "source": [
    "from sklearn.ensemble import RandomForestClassifier\n",
    "from sklearn.tree import DecisionTreeClassifier\n",
    "from sklearn.metrics import accuracy_score, precision_score, recall_score\n",
    "model = RandomForestClassifier(n_estimators=10,random_state=42)\n",
    "model.fit(X_train, Y_train)"
   ]
  },
  {
   "cell_type": "code",
   "execution_count": 162,
   "id": "793ae70e-1998-4f7b-bfde-f2a0d43608b5",
   "metadata": {},
   "outputs": [
    {
     "name": "stdout",
     "output_type": "stream",
     "text": [
      "Train Accuracy  : 96.73 %\n",
      "Test Accuracy   : 57.93 %\n",
      "Precision       : 56.85 %\n",
      "Recall          : 57.53 %\n"
     ]
    }
   ],
   "source": [
    "print(\"Train Accuracy  : {:.2f} %\".format(accuracy_score(model.predict(X_train), Y_train)*100))\n",
    "print(\"Test Accuracy   : {:.2f} %\".format(accuracy_score(model.predict(X_test), Y_test)*100))\n",
    "print(\"Precision       : {:.2f} %\".format(precision_score(model.predict(X_test), Y_test,average='macro')*100))\n",
    "print(\"Recall          : {:.2f} %\".format(recall_score(model.predict(X_test), Y_test,average='macro')*100))"
   ]
  },
  {
   "cell_type": "code",
   "execution_count": 163,
   "id": "0988ee26-4efd-4799-b3dc-27e6f8f3c2d5",
   "metadata": {},
   "outputs": [
    {
     "data": {
      "image/png": "[encoded data removed]",
      "text/plain": [
       "<Figure size 1080x1080 with 2 Axes>"
      ]
     },
     "metadata": {
      "needs_background": "light"
     },
     "output_type": "display_data"
    }
   ],
   "source": [
    "from sklearn.metrics import confusion_matrix, ConfusionMatrixDisplay\n",
    "cm = confusion_matrix(Y_test, model.predict(X_test))\n",
    "disp = ConfusionMatrixDisplay(cm, display_labels=lenc.classes_)\n",
    "fig, ax = plt.subplots(figsize=(15,15))\n",
    "disp.plot(ax=ax)\n",
    "plt.title(\"Confusion Matrix\")\n",
    "plt.show()"
   ]
  },
  {
   "cell_type": "code",
   "execution_count": 164,
   "id": "4cf99090-5cfc-4f36-bf39-5f492d508639",
   "metadata": {},
   "outputs": [],
   "source": [
    "from sklearn.pipeline import make_pipeline\n",
    "from sklearn.impute import SimpleImputer\n",
    "my_pipeline = make_pipeline(SimpleImputer(), RandomForestClassifier())"
   ]
  },
  {
   "cell_type": "code",
   "execution_count": 165,
   "id": "89527c5a-3dc5-4be0-8ca1-95976386441f",
   "metadata": {},
   "outputs": [
    {
     "name": "stdout",
     "output_type": "stream",
     "text": [
      "[0.56357388 0.57875458 0.54242928 0.56617647 0.53954306]\n"
     ]
    }
   ],
   "source": [
    "from sklearn.model_selection import cross_val_score\n",
    "scores = cross_val_score(my_pipeline, X_train, Y_train, scoring='precision')\n",
    "print(scores)"
   ]
  },
  {
   "cell_type": "code",
   "execution_count": 166,
   "id": "f55145e9-7e64-450e-816c-e3da65c9f0de",
   "metadata": {},
   "outputs": [],
   "source": [
    "from sklearn.naive_bayes import MultinomialNB\n",
    "from sklearn.neighbors import KNeighborsClassifier\n",
    "from sklearn.svm import LinearSVC"
   ]
  },
  {
   "cell_type": "code",
   "execution_count": 167,
   "id": "e416be68-9ffb-4a74-94e3-f589df5bb4df",
   "metadata": {},
   "outputs": [
    {
     "data": {
      "text/plain": [
       "MultinomialNB()"
      ]
     },
     "execution_count": 167,
     "metadata": {},
     "output_type": "execute_result"
    }
   ],
   "source": [
    "model1 = MultinomialNB()\n",
    "model1.fit(X_train, Y_train)"
   ]
  },
  {
   "cell_type": "code",
   "execution_count": 168,
   "id": "129c949c-dc99-4475-a7db-6f465ea3d7d8",
   "metadata": {},
   "outputs": [
    {
     "name": "stdout",
     "output_type": "stream",
     "text": [
      "Train Accuracy  : 75.21 %\n",
      "Test Accuracy   : 61.88 %\n",
      "Precision       : 60.93 %\n",
      "Recall          : 61.77 %\n"
     ]
    }
   ],
   "source": [
    "print(\"Train Accuracy  : {:.2f} %\".format(accuracy_score(model1.predict(X_train), Y_train)*100))\n",
    "print(\"Test Accuracy   : {:.2f} %\".format(accuracy_score(model1.predict(X_test), Y_test)*100))\n",
    "print(\"Precision       : {:.2f} %\".format(precision_score(model1.predict(X_test), Y_test,average='macro')*100))\n",
    "print(\"Recall          : {:.2f} %\".format(recall_score(model1.predict(X_test), Y_test,average='macro')*100))"
   ]
  },
  {
   "cell_type": "code",
   "execution_count": 169,
   "id": "9c141f5a-c952-450b-893f-2d14f93c1fab",
   "metadata": {},
   "outputs": [
    {
     "data": {
      "text/plain": [
       "KNeighborsClassifier()"
      ]
     },
     "execution_count": 169,
     "metadata": {},
     "output_type": "execute_result"
    }
   ],
   "source": [
    "model2 = KNeighborsClassifier()\n",
    "model2.fit(X_train,Y_train)"
   ]
  },
  {
   "cell_type": "code",
   "execution_count": 170,
   "id": "2923dbf5-554b-4c65-89a9-367565fe07d2",
   "metadata": {},
   "outputs": [
    {
     "name": "stdout",
     "output_type": "stream",
     "text": [
      "Train Accuracy  : 69.34 %\n",
      "Test Accuracy   : 54.24 %\n",
      "Precision       : 52.55 %\n",
      "Recall          : 53.25 %\n"
     ]
    }
   ],
   "source": [
    "print(\"Train Accuracy  : {:.2f} %\".format(accuracy_score(model2.predict(X_train), Y_train)*100))\n",
    "print(\"Test Accuracy   : {:.2f} %\".format(accuracy_score(model2.predict(X_test), Y_test)*100))\n",
    "print(\"Precision       : {:.2f} %\".format(precision_score(model2.predict(X_test), Y_test,average='macro')*100))\n",
    "print(\"Recall          : {:.2f} %\".format(recall_score(model2.predict(X_test), Y_test,average='macro')*100))"
   ]
  },
  {
   "cell_type": "code",
   "execution_count": 171,
   "id": "a512a1a7-238c-491e-9018-02e99279b22b",
   "metadata": {},
   "outputs": [
    {
     "data": {
      "text/plain": [
       "LinearSVC()"
      ]
     },
     "execution_count": 171,
     "metadata": {},
     "output_type": "execute_result"
    }
   ],
   "source": [
    "model3 = LinearSVC()\n",
    "model3.fit(X_train,Y_train)"
   ]
  },
  {
   "cell_type": "code",
   "execution_count": 172,
   "id": "782f6cae-012b-4f31-842e-4e96df6cbca6",
   "metadata": {},
   "outputs": [
    {
     "name": "stdout",
     "output_type": "stream",
     "text": [
      "Train Accuracy  : 80.89 %\n",
      "Test Accuracy   : 60.38 %\n",
      "Precision       : 60.07 %\n",
      "Recall          : 60.12 %\n"
     ]
    }
   ],
   "source": [
    "print(\"Train Accuracy  : {:.2f} %\".format(accuracy_score(model3.predict(X_train), Y_train)*100))\n",
    "print(\"Test Accuracy   : {:.2f} %\".format(accuracy_score(model3.predict(X_test), Y_test)*100))\n",
    "print(\"Precision       : {:.2f} %\".format(precision_score(model3.predict(X_test), Y_test,average='macro')*100))\n",
    "print(\"Recall          : {:.2f} %\".format(recall_score(model3.predict(X_test), Y_test,average='macro')*100))"
   ]
  },
  {
   "cell_type": "code",
   "execution_count": 173,
   "id": "f98819c6-29f8-4e74-a31e-8b6ae377d34c",
   "metadata": {},
   "outputs": [],
   "source": [
    "pipline_1 = make_pipeline(SimpleImputer(), MultinomialNB())\n",
    "pipline_2 = make_pipeline(SimpleImputer(), KNeighborsClassifier())\n",
    "pipline_3 = make_pipeline(SimpleImputer(), LinearSVC())\n",
    "scores_1 = cross_val_score(pipline_1, X_train, Y_train, scoring='precision')\n",
    "scores_2 = cross_val_score(pipline_2, X_train, Y_train, scoring='precision')\n",
    "scores_3 = cross_val_score(pipline_3, X_train, Y_train, scoring='precision')"
   ]
  },
  {
   "cell_type": "code",
   "execution_count": 174,
   "id": "98006357-9780-43b2-9980-f6a5f0f94ffa",
   "metadata": {},
   "outputs": [
    {
     "name": "stdout",
     "output_type": "stream",
     "text": [
      "Random Forest:  [0.56357388 0.57875458 0.54242928 0.56617647 0.53954306]\n",
      "Naive Bayes:  [0.58277027 0.60810811 0.55952381 0.6        0.62285714]\n",
      "KNN:  [0.5085389  0.52112676 0.47619048 0.48742747 0.47457627]\n",
      "SVC:  [0.55957162 0.57733538 0.54010695 0.55732946 0.5633383 ]\n"
     ]
    }
   ],
   "source": [
    "print('Random Forest: ',scores)\n",
    "print('Naive Bayes: ',scores_1)\n",
    "print('KNN: ',scores_2)\n",
    "print('SVC: ',scores_3)"
   ]
  },
  {
   "cell_type": "code",
   "execution_count": 175,
   "id": "32d715d9-8702-4520-8d46-d78baeeaf9d9",
   "metadata": {},
   "outputs": [],
   "source": [
    "from sklearn.model_selection import RandomizedSearchCV\n",
    "n_estimators = [int(x) for x in np.linspace(start = 200, stop = 2000, num = 10)]\n",
    "\n",
    "max_features = ['auto', 'sqrt']\n",
    "\n",
    "max_depth = [int(x) for x in np.linspace(10, 110, num = 11)]\n",
    "max_depth.append(None)\n",
    "\n",
    "min_samples_split = [2, 5, 10]\n",
    "\n",
    "min_samples_leaf = [1, 2, 4]\n",
    "\n",
    "bootstrap = [True, False]"
   ]
  },
  {
   "cell_type": "code",
   "execution_count": 176,
   "id": "8808d500-cec1-4cf8-8961-8181c2f10e6e",
   "metadata": {},
   "outputs": [
    {
     "name": "stdout",
     "output_type": "stream",
     "text": [
      "{'n_estimators': [200, 400, 600, 800, 1000, 1200, 1400, 1600, 1800, 2000], 'max_features': ['auto', 'sqrt'], 'max_depth': [10, 20, 30, 40, 50, 60, 70, 80, 90, 100, 110, None], 'min_samples_split': [2, 5, 10], 'min_samples_leaf': [1, 2, 4], 'bootstrap': [True, False]}\n"
     ]
    }
   ],
   "source": [
    "random_grid = {'n_estimators': n_estimators,\n",
    "               'max_features': max_features,\n",
    "               'max_depth': max_depth,\n",
    "               'min_samples_split': min_samples_split,\n",
    "               'min_samples_leaf': min_samples_leaf,\n",
    "               'bootstrap': bootstrap}\n",
    "\n",
    "print(random_grid)"
   ]
  },
  {
   "cell_type": "code",
   "execution_count": 177,
   "id": "a871e8a9-836a-4c08-8ebf-f7dc258b59ba",
   "metadata": {},
   "outputs": [
    {
     "name": "stdout",
     "output_type": "stream",
     "text": [
      "Fitting 3 folds for each of 100 candidates, totalling 300 fits\n"
     ]
    },
    {
     "data": {
      "text/plain": [
       "RandomizedSearchCV(cv=3, estimator=RandomForestClassifier(), n_iter=100,\n",
       "                   n_jobs=-1,\n",
       "                   param_distributions={'bootstrap': [True, False],\n",
       "                                        'max_depth': [10, 20, 30, 40, 50, 60,\n",
       "                                                      70, 80, 90, 100, 110,\n",
       "                                                      None],\n",
       "                                        'max_features': ['auto', 'sqrt'],\n",
       "                                        'min_samples_leaf': [1, 2, 4],\n",
       "                                        'min_samples_split': [2, 5, 10],\n",
       "                                        'n_estimators': [200, 400, 600, 800,\n",
       "                                                         1000, 1200, 1400, 1600,\n",
       "                                                         1800, 2000]},\n",
       "                   random_state=42, verbose=2)"
      ]
     },
     "execution_count": 177,
     "metadata": {},
     "output_type": "execute_result"
    }
   ],
   "source": [
    "rf = RandomForestClassifier()\n",
    "\n",
    "rf_random = RandomizedSearchCV(estimator = rf\n",
    "                               , param_distributions = random_grid\n",
    "                               , n_iter = 100\n",
    "                               , cv = 3\n",
    "                               , verbose=2\n",
    "                               , random_state=42\n",
    "                               , n_jobs = -1)\n",
    "\n",
    "rf_random.fit(X_train, Y_train)"
   ]
  },
  {
   "cell_type": "code",
   "execution_count": 178,
   "id": "8892439c-9771-4ad5-8b18-be225f15efe8",
   "metadata": {},
   "outputs": [
    {
     "data": {
      "text/plain": [
       "{'n_estimators': 1600,\n",
       " 'min_samples_split': 10,\n",
       " 'min_samples_leaf': 1,\n",
       " 'max_features': 'sqrt',\n",
       " 'max_depth': None,\n",
       " 'bootstrap': True}"
      ]
     },
     "execution_count": 178,
     "metadata": {},
     "output_type": "execute_result"
    }
   ],
   "source": [
    "rf_random.best_params_"
   ]
  },
  {
   "cell_type": "code",
   "execution_count": 180,
   "id": "8cbe7723-de80-43c7-b23a-93ff7b1f9249",
   "metadata": {},
   "outputs": [],
   "source": [
    "y_predict = rf_random.predict(X_test)"
   ]
  },
  {
   "cell_type": "code",
   "execution_count": 181,
   "id": "fe318fe6-14df-4d12-9504-9be600ea5a47",
   "metadata": {},
   "outputs": [
    {
     "name": "stdout",
     "output_type": "stream",
     "text": [
      "Accuracy: 59.78%\n"
     ]
    }
   ],
   "source": [
    "accuracy = accuracy_score(Y_test, y_predict)\n",
    "print(\"Accuracy: %.2f%%\" % (accuracy * 100.0))"
   ]
  },
  {
   "cell_type": "code",
   "execution_count": 182,
   "id": "fd6df8b7-feb6-4f04-9655-dbfd09671856",
   "metadata": {},
   "outputs": [
    {
     "data": {
      "text/plain": [
       "array([[757, 318],\n",
       "       [488, 441]], dtype=int64)"
      ]
     },
     "execution_count": 182,
     "metadata": {},
     "output_type": "execute_result"
    }
   ],
   "source": [
    "confusion_matrix(Y_test, y_predict)"
   ]
  },
  {
   "cell_type": "code",
   "execution_count": null,
   "id": "d9f004b5-993e-4599-b814-5d2a759fd2eb",
   "metadata": {},
   "outputs": [],
   "source": []
  }
 ],
 "metadata": {
  "kernelspec": {
   "display_name": "Python 3 (ipykernel)",
   "language": "python",
   "name": "python3"
  },
  "language_info": {
   "codemirror_mode": {
    "name": "ipython",
    "version": 3
   },
   "file_extension": ".py",
   "mimetype": "text/x-python",
   "name": "python",
   "nbconvert_exporter": "python",
   "pygments_lexer": "ipython3",
   "version": "3.9.7"
  }
 },
 "nbformat": 4,
 "nbformat_minor": 5
}
